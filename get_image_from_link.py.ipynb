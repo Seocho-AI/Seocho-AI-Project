{
 "cells": [
  {
   "cell_type": "code",
   "execution_count": null,
   "id": "e638ab37",
   "metadata": {},
   "outputs": [],
   "source": [
    "import os\n",
    "import pandas as pd\n",
    "from urllib.request import urlretrieve\n",
    "\n",
    "raw_data = pd.read_csv(\"./abandoned_dog2.csv\", encoding=\"UTF-8\",index_col=0)\n",
    "\n",
    "path_folder = '/Users/SooBin/Desktop/KAIST/MAIN_PROJECT/Seocho-AI-Project/get_image'\n",
    "if not os.path.isdir(path_folder):\n",
    "    os.mkdir(path_folder)\n",
    "\n",
    "i = 0\n",
    "for link in raw_data['popfile']:          \n",
    "    i += 1\n",
    "    urlretrieve(link, path_folder + f'{i}.jpg')"
   ]
  }
 ],
 "metadata": {
  "kernelspec": {
   "display_name": "Python 3",
   "language": "python",
   "name": "python3"
  },
  "language_info": {
   "codemirror_mode": {
    "name": "ipython",
    "version": 3
   },
   "file_extension": ".py",
   "mimetype": "text/x-python",
   "name": "python",
   "nbconvert_exporter": "python",
   "pygments_lexer": "ipython3",
   "version": "3.6.5"
  },
  "toc": {
   "base_numbering": 1,
   "nav_menu": {},
   "number_sections": true,
   "sideBar": true,
   "skip_h1_title": false,
   "title_cell": "Table of Contents",
   "title_sidebar": "Contents",
   "toc_cell": false,
   "toc_position": {},
   "toc_section_display": true,
   "toc_window_display": false
  }
 },
 "nbformat": 4,
 "nbformat_minor": 5
}
