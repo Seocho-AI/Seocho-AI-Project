{
 "cells": [
  {
   "cell_type": "markdown",
   "id": "59281b66",
   "metadata": {},
   "source": [
    "### 보호동물데이터_openapi"
   ]
  },
  {
   "cell_type": "code",
   "execution_count": 1,
   "id": "e972c1df",
   "metadata": {},
   "outputs": [
    {
     "ename": "ModuleNotFoundError",
     "evalue": "No module named 'pandas'",
     "output_type": "error",
     "traceback": [
      "\u001b[1;31m---------------------------------------------------------------------------\u001b[0m",
      "\u001b[1;31mModuleNotFoundError\u001b[0m                       Traceback (most recent call last)",
      "\u001b[1;32mc:\\Users\\LG\\seochoAI\\Project\\Project-git\\Seocho-AI-Project\\보호동물.ipynb 셀 2\u001b[0m in \u001b[0;36m<cell line: 1>\u001b[1;34m()\u001b[0m\n\u001b[1;32m----> <a href='vscode-notebook-cell:/c%3A/Users/LG/seochoAI/Project/Project-git/Seocho-AI-Project/%EB%B3%B4%ED%98%B8%EB%8F%99%EB%AC%BC.ipynb#W0sZmlsZQ%3D%3D?line=0'>1</a>\u001b[0m \u001b[39mimport\u001b[39;00m \u001b[39mpandas\u001b[39;00m \u001b[39mas\u001b[39;00m \u001b[39mpd\u001b[39;00m\n",
      "\u001b[1;31mModuleNotFoundError\u001b[0m: No module named 'pandas'"
     ]
    }
   ],
   "source": [
    "import pandas as pd"
   ]
  },
  {
   "cell_type": "code",
   "execution_count": null,
   "id": "6cd78a8f",
   "metadata": {},
   "outputs": [],
   "source": [
    "serviceKey = 'ieHW%2FCmVoKfe3X9EnL2OT8JoMTqCSRxMT9%2FE5Fr4spuLN4s4Hms5ZiIAZm%2BgvmlMkm06BDRPZHKyrNW4Qo%2F%2B2w%3D%3D'\n",
    "pageNo = 1\n",
    "url='http://apis.data.go.kr/1543061/abandonmentPublicSrvc/abandonmentPublic?bgnde=20210101&endde=20211231&pageNo='+str(pageNo)+'&numOfRows=1000&serviceKey='+serviceKey\n",
    "df = pd.read_xml(url, xpath='.//item')"
   ]
  },
  {
   "cell_type": "code",
   "execution_count": null,
   "id": "05a0a232",
   "metadata": {},
   "outputs": [],
   "source": [
    "for i in range (117):\n",
    "    pageNo += 1\n",
    "    url='http://apis.data.go.kr/1543061/abandonmentPublicSrvc/abandonmentPublic?bgnde=20210101&endde=20211231&pageNo='+str(pageNo)+'&numOfRows=1000&serviceKey='+serviceKey\n",
    "    df2 = pd.read_xml(url, xpath='.//item')\n",
    "    df = pd.concat((df,df2))\n",
    "        \n",
    "df.shape"
   ]
  },
  {
   "cell_type": "markdown",
   "id": "f1d7fc09",
   "metadata": {},
   "source": [
    "#### csv로 저장"
   ]
  },
  {
   "cell_type": "code",
   "execution_count": null,
   "id": "a40eb117",
   "metadata": {},
   "outputs": [],
   "source": [
    "df.to_csv('보호동물.csv', encoding='utf-8-sig')"
   ]
  },
  {
   "cell_type": "code",
   "execution_count": null,
   "id": "2f70d8e9",
   "metadata": {},
   "outputs": [],
   "source": []
  }
 ],
 "metadata": {
  "kernelspec": {
   "display_name": "Python 3.10.5 64-bit",
   "language": "python",
   "name": "python3"
  },
  "language_info": {
   "codemirror_mode": {
    "name": "ipython",
    "version": 3
   },
   "file_extension": ".py",
   "mimetype": "text/x-python",
   "name": "python",
   "nbconvert_exporter": "python",
   "pygments_lexer": "ipython3",
   "version": "3.10.5"
  },
  "vscode": {
   "interpreter": {
    "hash": "146e877987a5ca10c5ba40ec3e7a25002bcba56c71dc1c36e6a7a19a2012e1b9"
   }
  }
 },
 "nbformat": 4,
 "nbformat_minor": 5
}
