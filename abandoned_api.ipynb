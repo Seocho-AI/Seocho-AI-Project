{
 "cells": [
  {
   "cell_type": "markdown",
   "id": "59281b66",
   "metadata": {},
   "source": [
    "### 보호동물데이터_openapi"
   ]
  },
  {
   "cell_type": "code",
   "execution_count": 1,
   "id": "e972c1df",
   "metadata": {},
   "outputs": [],
   "source": [
    "import pandas as pd"
   ]
  },
  {
   "cell_type": "code",
   "execution_count": 5,
   "id": "6cd78a8f",
   "metadata": {},
   "outputs": [],
   "source": [
    "serviceKey = 'ieHW%2FCmVoKfe3X9EnL2OT8JoMTqCSRxMT9%2FE5Fr4spuLN4s4Hms5ZiIAZm%2BgvmlMkm06BDRPZHKyrNW4Qo%2F%2B2w%3D%3D'\n",
    "pageNo = 1\n",
    "bgn = 20220809\n",
    "end = 20220816\n",
    "url='http://apis.data.go.kr/1543061/abandonmentPublicSrvc/abandonmentPublic?bgnde='+str(bgn)+'&endde='+str(end)+'&pageNo='+str(pageNo)+'&numOfRows=1000&serviceKey='+serviceKey\n",
    "df = pd.read_xml(url, xpath='.//item')"
   ]
  },
  {
   "cell_type": "code",
   "execution_count": 6,
   "id": "05a0a232",
   "metadata": {},
   "outputs": [
    {
     "name": "stdout",
     "output_type": "stream",
     "text": [
      "page 2 done\n",
      "page 3 done\n"
     ]
    },
    {
     "data": {
      "text/plain": [
       "(2341, 23)"
      ]
     },
     "execution_count": 6,
     "metadata": {},
     "output_type": "execute_result"
    }
   ],
   "source": [
    "for i in range (2):\n",
    "    pageNo += 1\n",
    "    url='http://apis.data.go.kr/1543061/abandonmentPublicSrvc/abandonmentPublic?bgnde='+str(bgn)+'&endde='+str(end)+'&pageNo='+str(pageNo)+'&numOfRows=1000&serviceKey='+serviceKey\n",
    "    df2 = pd.read_xml(url, xpath='.//item')\n",
    "    df = pd.concat((df,df2))\n",
    "    print('page',pageNo,'done')\n",
    "        \n",
    "df.shape"
   ]
  },
  {
   "cell_type": "markdown",
   "id": "f1d7fc09",
   "metadata": {},
   "source": [
    "#### csv로 저장"
   ]
  },
  {
   "cell_type": "code",
   "execution_count": 7,
   "id": "a40eb117",
   "metadata": {},
   "outputs": [],
   "source": [
    "df.to_csv('abandoned_r.csv', encoding='utf-8-sig')"
   ]
  },
  {
   "cell_type": "code",
   "execution_count": null,
   "id": "2a1139e0",
   "metadata": {},
   "outputs": [],
   "source": []
  }
 ],
 "metadata": {
  "kernelspec": {
   "display_name": "Python 3 (ipykernel)",
   "language": "python",
   "name": "python3"
  },
  "language_info": {
   "codemirror_mode": {
    "name": "ipython",
    "version": 3
   },
   "file_extension": ".py",
   "mimetype": "text/x-python",
   "name": "python",
   "nbconvert_exporter": "python",
   "pygments_lexer": "ipython3",
   "version": "3.9.7"
  },
  "vscode": {
   "interpreter": {
    "hash": "146e877987a5ca10c5ba40ec3e7a25002bcba56c71dc1c36e6a7a19a2012e1b9"
   }
  }
 },
 "nbformat": 4,
 "nbformat_minor": 5
}
